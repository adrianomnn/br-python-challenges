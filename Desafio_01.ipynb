{
  "nbformat": 4,
  "nbformat_minor": 0,
  "metadata": {
    "anaconda-cloud": {},
    "kernelspec": {
      "display_name": "Python 3",
      "language": "python",
      "name": "python3"
    },
    "language_info": {
      "codemirror_mode": {
        "name": "ipython",
        "version": 3
      },
      "file_extension": ".py",
      "mimetype": "text/x-python",
      "name": "python",
      "nbconvert_exporter": "python",
      "pygments_lexer": "ipython3",
      "version": "3.7.7"
    },
    "colab": {
      "name": "Desafio 1.ipynb",
      "provenance": [],
      "include_colab_link": true
    }
  },
  "cells": [
    {
      "cell_type": "markdown",
      "metadata": {
        "id": "view-in-github",
        "colab_type": "text"
      },
      "source": [
        "<a href=\"https://colab.research.google.com/github/adrianomnn/br-python-challenges/blob/master/Desafio_01.ipynb\" target=\"_parent\"><img src=\"https://colab.research.google.com/assets/colab-badge.svg\" alt=\"Open In Colab\"/></a>"
      ]
    },
    {
      "cell_type": "markdown",
      "metadata": {
        "id": "SbLLE9q1eldC"
      },
      "source": [
        "### Desafio 1\n",
        "\n",
        "Escreva um programa em Python para contabilizar a quantidade de ocorrências de cada palavra."
      ]
    },
    {
      "cell_type": "code",
      "metadata": {
        "id": "WhtbdwFseldD"
      },
      "source": [
        "palavras = [\n",
        "   'red', 'green', 'black', 'pink', 'black', 'white', 'black', 'eyes',\n",
        "   'white', 'black', 'orange', 'pink', 'pink', 'red', 'red', 'white', 'orange',\n",
        "   'white', \"black\", 'pink', 'green', 'green', 'pink', 'green', 'pink',\n",
        "   'white', 'orange', \"orange\", 'red']\n",
        "\n",
        "def contagem(palavra, lista):\n",
        "  contagem = 0\n",
        "  for i in range (len(lista)):\n",
        "    if palavra == lista[i]:\n",
        "      contagem += 1\n",
        "  return contagem\n",
        "\n",
        "\n"
      ],
      "execution_count": 4,
      "outputs": []
    },
    {
      "cell_type": "code",
      "metadata": {
        "id": "M58o1U9KfAxa",
        "colab": {
          "base_uri": "https://localhost:8080/"
        },
        "outputId": "a6dd1a8f-5610-410d-d992-ef92e3b2e14c"
      },
      "source": [
        "contagem('red', palavras)"
      ],
      "execution_count": null,
      "outputs": [
        {
          "output_type": "execute_result",
          "data": {
            "text/plain": [
              "4"
            ]
          },
          "metadata": {
            "tags": []
          },
          "execution_count": 3
        }
      ]
    },
    {
      "cell_type": "code",
      "metadata": {
        "id": "RdubjiuuX5cI",
        "outputId": "d2a988dd-aecd-4de9-b622-e06e12a3abd9",
        "colab": {
          "base_uri": "https://localhost:8080/"
        }
      },
      "source": [
        "for i in range(len(nova_lista)):\r\n",
        "  contagem = 0\r\n",
        "  nova_lista = list(set(palavras))\r\n",
        "  for j in range(len(palavras)):\r\n",
        "    if nova_lista[i] == palavras[j]:\r\n",
        "      contagem+=1\r\n",
        "  print(f'A palavra {nova_lista[i]} aparece {contagem} vezes na lista.')"
      ],
      "execution_count": 26,
      "outputs": [
        {
          "output_type": "stream",
          "text": [
            "A palavra green aparece 4 vezes na lista.\n",
            "A palavra black aparece 5 vezes na lista.\n",
            "A palavra orange aparece 4 vezes na lista.\n",
            "A palavra red aparece 4 vezes na lista.\n",
            "A palavra eyes aparece 1 vezes na lista.\n",
            "A palavra white aparece 5 vezes na lista.\n",
            "A palavra pink aparece 6 vezes na lista.\n"
          ],
          "name": "stdout"
        }
      ]
    }
  ]
}