{
  "nbformat": 4,
  "nbformat_minor": 0,
  "metadata": {
    "anaconda-cloud": {},
    "kernelspec": {
      "display_name": "Python 3",
      "language": "python",
      "name": "python3"
    },
    "language_info": {
      "codemirror_mode": {
        "name": "ipython",
        "version": 3
      },
      "file_extension": ".py",
      "mimetype": "text/x-python",
      "name": "python",
      "nbconvert_exporter": "python",
      "pygments_lexer": "ipython3",
      "version": "3.6.5"
    },
    "colab": {
      "name": "Desafio 2.ipynb",
      "provenance": []
    }
  },
  "cells": [
    {
      "cell_type": "markdown",
      "metadata": {
        "id": "q1NCks7Af6JN"
      },
      "source": [
        "### Desafio 2\n",
        "\n",
        "Escreva uma função que recebe um número inteiro de horas e a converte em segundos.\n",
        "\n",
        "Exemplo:\n",
        "\n",
        "convert(5) ➞ 18000\n",
        "\n",
        "convert(3) ➞ 10800\n",
        "\n",
        "convert(2) ➞ 7200"
      ]
    },
    {
      "cell_type": "code",
      "metadata": {
        "id": "sSm6F7sff6JO"
      },
      "source": [
        "def convert_to_sec(number):\n",
        "    conversor = number*3600\n",
        "    return conversor "
      ],
      "execution_count": 1,
      "outputs": []
    },
    {
      "cell_type": "code",
      "metadata": {
        "id": "NPC9TwH9cMW-",
        "outputId": "57538b05-bcb9-424c-8337-de7dae3a0d23",
        "colab": {
          "base_uri": "https://localhost:8080/"
        }
      },
      "source": [
        "convert_to_sec(2)"
      ],
      "execution_count": 4,
      "outputs": [
        {
          "output_type": "execute_result",
          "data": {
            "text/plain": [
              "7200"
            ]
          },
          "metadata": {
            "tags": []
          },
          "execution_count": 4
        }
      ]
    }
  ]
}