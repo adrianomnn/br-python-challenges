{
  "nbformat": 4,
  "nbformat_minor": 0,
  "metadata": {
    "anaconda-cloud": {},
    "kernelspec": {
      "display_name": "Python 3",
      "language": "python",
      "name": "python3"
    },
    "language_info": {
      "codemirror_mode": {
        "name": "ipython",
        "version": 3
      },
      "file_extension": ".py",
      "mimetype": "text/x-python",
      "name": "python",
      "nbconvert_exporter": "python",
      "pygments_lexer": "ipython3",
      "version": "3.6.5"
    },
    "colab": {
      "name": "Desafio 3.ipynb",
      "provenance": []
    }
  },
  "cells": [
    {
      "cell_type": "markdown",
      "metadata": {
        "id": "9apVxxygf6JR"
      },
      "source": [
        "### Desafio 3\n",
        "\n",
        "Escreva uma função que receba uma lista e retorne uma nova lista ordenada e sem valores duplicados.\n"
      ]
    },
    {
      "cell_type": "code",
      "metadata": {
        "id": "ndTkQEUBf6JS"
      },
      "source": [
        "lista = [1,2,3,4,3,30,3,4,5,6,9,3,2,1,2,4,5,15,6,6,3,13,4,45,5]\n",
        "\n",
        "def sem_duplicatas(lista):\n",
        "  nova_lista = set(lista)\n",
        "  return list(nova_lista)"
      ],
      "execution_count": 3,
      "outputs": []
    },
    {
      "cell_type": "code",
      "metadata": {
        "id": "zsrVEkJIhNwb"
      },
      "source": [
        "def sem_duplicatas2(lista):\r\n",
        "  nova_lista = []\r\n",
        "  for i in range(len(lista)):\r\n",
        "    if lista[i] not in nova_lista:\r\n",
        "      nova_lista.append(lista[i])\r\n",
        "  return nova_lista"
      ],
      "execution_count": 9,
      "outputs": []
    },
    {
      "cell_type": "code",
      "metadata": {
        "id": "3hO1Z7gYhlgy",
        "outputId": "d2c1e22f-061d-4e1a-e402-62ab1a473d42",
        "colab": {
          "base_uri": "https://localhost:8080/"
        }
      },
      "source": [
        "sem_duplicatas2(lista)"
      ],
      "execution_count": 10,
      "outputs": [
        {
          "output_type": "execute_result",
          "data": {
            "text/plain": [
              "[1, 2, 3, 4, 30, 5, 6, 9, 15, 13, 45]"
            ]
          },
          "metadata": {
            "tags": []
          },
          "execution_count": 10
        }
      ]
    },
    {
      "cell_type": "code",
      "metadata": {
        "id": "wo2rA-NriFtO",
        "colab": {
          "base_uri": "https://localhost:8080/"
        },
        "outputId": "31a0a8ad-0cfb-4c27-e26c-010077e58c97"
      },
      "source": [
        "sem_duplicatas(lista)"
      ],
      "execution_count": 4,
      "outputs": [
        {
          "output_type": "execute_result",
          "data": {
            "text/plain": [
              "[1, 2, 3, 4, 5, 6, 9, 13, 45, 15, 30]"
            ]
          },
          "metadata": {
            "tags": []
          },
          "execution_count": 4
        }
      ]
    }
  ]
}