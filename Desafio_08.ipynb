{
  "nbformat": 4,
  "nbformat_minor": 0,
  "metadata": {
    "anaconda-cloud": {},
    "kernelspec": {
      "display_name": "Python 3",
      "language": "python",
      "name": "python3"
    },
    "language_info": {
      "codemirror_mode": {
        "name": "ipython",
        "version": 3
      },
      "file_extension": ".py",
      "mimetype": "text/x-python",
      "name": "python",
      "nbconvert_exporter": "python",
      "pygments_lexer": "ipython3",
      "version": "3.6.5"
    },
    "colab": {
      "name": "Desafio 8.ipynb",
      "provenance": []
    }
  },
  "cells": [
    {
      "cell_type": "markdown",
      "metadata": {
        "id": "o3tkeMDNf6Jo"
      },
      "source": [
        "### Desafio 8\n",
        "\n",
        "Escreva um script Python para encontrar as 10 palavras mais longas em um arquivo.\n",
        "\n",
        "O arquivo TXT está localizado na mesma pasta do projeto (texto.txt)."
      ]
    },
    {
      "cell_type": "code",
      "metadata": {
        "id": "EknxjSG0f6Jo"
      },
      "source": [
        "#abertura do arquivo txt\r\n",
        "arquivo = open('texto.txt', 'r') "
      ],
      "execution_count": 89,
      "outputs": []
    },
    {
      "cell_type": "code",
      "metadata": {
        "id": "ZYbqEWBG5nKx"
      },
      "source": [
        "#leitura do texto, formando uma lista com cada elemento da lista sendo uma string (linha do txt).\r\n",
        "texto = arquivo.readlines()"
      ],
      "execution_count": 90,
      "outputs": []
    },
    {
      "cell_type": "code",
      "metadata": {
        "id": "Sr1CkqVpuJaw"
      },
      "source": [
        "#criação de uma lista de listas, com cada linha sendo uma lista; e cada palavra da linha um elemento da lista\r\n",
        "\r\n",
        "novo_texto = []\r\n",
        "for i in range(len(texto)):\r\n",
        "  linha_lista = texto[i].split()\r\n",
        "  novo_texto.append(linha_lista)\r\n",
        "  "
      ],
      "execution_count": 91,
      "outputs": []
    },
    {
      "cell_type": "code",
      "metadata": {
        "id": "rh7iRHse6Wu_"
      },
      "source": [
        "#criação de um dicionário, com a chave sendo a palavra e o valor sendo o tamanho de cada palavra.\r\n",
        "\r\n",
        "tamanho = dict()\r\n",
        "for i in range(len(novo_texto)):\r\n",
        "  for j in range(len(novo_texto[i])):\r\n",
        "    #print(len(novo_texto[i][j]))\r\n",
        "    tamanho[novo_texto[i][j]] = len(novo_texto[i][j])"
      ],
      "execution_count": null,
      "outputs": []
    },
    {
      "cell_type": "code",
      "metadata": {
        "id": "sxAUniMs6wsg",
        "outputId": "b0cb8df2-3057-49f7-d224-629d54d0b2a6",
        "colab": {
          "base_uri": "https://localhost:8080/"
        }
      },
      "source": [
        "#ordenação em ordem decrescente dos valores do dicionário, para se obter as 10 palavras mais longas.\r\n",
        "\r\n",
        "sorted(tamanho.items(), key=lambda x: x[1], reverse=True)[:10]"
      ],
      "execution_count": 142,
      "outputs": [
        {
          "output_type": "execute_result",
          "data": {
            "text/plain": [
              "[('general-purpose,', 16),\n",
              " ('object-oriented,', 16),\n",
              " ('comprehensive', 13),\n",
              " ('intermediate)', 13),\n",
              " ('interpreted,', 12),\n",
              " ('readability,', 12),\n",
              " ('high-level,', 11),\n",
              " ('programming', 11),\n",
              " ('programmers', 11),\n",
              " ('philosophy', 10)]"
            ]
          },
          "metadata": {
            "tags": []
          },
          "execution_count": 142
        }
      ]
    }
  ]
}