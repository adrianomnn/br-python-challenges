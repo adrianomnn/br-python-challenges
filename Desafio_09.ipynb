{
  "nbformat": 4,
  "nbformat_minor": 0,
  "metadata": {
    "anaconda-cloud": {},
    "kernelspec": {
      "display_name": "Python 3",
      "language": "python",
      "name": "python3"
    },
    "language_info": {
      "codemirror_mode": {
        "name": "ipython",
        "version": 3
      },
      "file_extension": ".py",
      "mimetype": "text/x-python",
      "name": "python",
      "nbconvert_exporter": "python",
      "pygments_lexer": "ipython3",
      "version": "3.6.5"
    },
    "colab": {
      "name": "Desafio 9.ipynb",
      "provenance": []
    }
  },
  "cells": [
    {
      "cell_type": "markdown",
      "metadata": {
        "id": "HpvTpUBGf6Jr"
      },
      "source": [
        "### Desafio 9\n",
        "\n",
        "Escreva uma função que retorne a soma dos múltiplos de 3 e 5 entre 0 e um número limite (parâmetro). Por exemplo, se o limite for 20, ele retornará a soma de 3, 5, 6, 9, 10, 12, 15, 18, 20."
      ]
    },
    {
      "cell_type": "code",
      "metadata": {
        "id": "195C6bw-f6Js"
      },
      "source": [
        "def multiplos_3_5(limite):\r\n",
        "  lista = []\r\n",
        "  lista_3 = multiplos_3(limite)\r\n",
        "  lista_5 = multiplos_5(limite)\r\n",
        "  lista = lista_3 + lista_5\r\n",
        "  return list(set(lista))\r\n",
        "\r\n",
        "def multiplos_3(limite):\r\n",
        "  lista = []\r\n",
        "  i = 1\r\n",
        "  while True:\r\n",
        "    multiplo_3 = 3*i\r\n",
        "    lista.append(multiplo_3)\r\n",
        "    i+=1\r\n",
        "    if lista[-1] > limite:\r\n",
        "      lista = lista[:-1]\r\n",
        "      return lista\r\n",
        "      break\r\n",
        "\r\n",
        "def multiplos_5(limite):\r\n",
        "  lista = []\r\n",
        "  i = 1\r\n",
        "  while True:\r\n",
        "    multiplo_5 = 5*i\r\n",
        "    lista.append(multiplo_5)\r\n",
        "    i+=1\r\n",
        "    if lista[-1] > limite:\r\n",
        "      lista = lista[:-1]\r\n",
        "      return lista\r\n",
        "      break"
      ],
      "execution_count": 89,
      "outputs": []
    },
    {
      "cell_type": "code",
      "metadata": {
        "id": "SosdSWXcLjyp",
        "outputId": "74479597-57ee-4bbc-d761-8be5d626f740",
        "colab": {
          "base_uri": "https://localhost:8080/"
        }
      },
      "source": [
        "multiplos_3_5(20)"
      ],
      "execution_count": 92,
      "outputs": [
        {
          "output_type": "execute_result",
          "data": {
            "text/plain": [
              "[3, 5, 6, 9, 10, 12, 15, 18, 20]"
            ]
          },
          "metadata": {
            "tags": []
          },
          "execution_count": 92
        }
      ]
    },
    {
      "cell_type": "code",
      "metadata": {
        "id": "a_6aqcKp6wrN",
        "colab": {
          "base_uri": "https://localhost:8080/"
        },
        "outputId": "dc1619f2-4465-432c-cadc-195ea91c52a5"
      },
      "source": [
        "multiplos_3(24)"
      ],
      "execution_count": 77,
      "outputs": [
        {
          "output_type": "execute_result",
          "data": {
            "text/plain": [
              "[3, 6, 9, 12, 15, 18, 21, 24]"
            ]
          },
          "metadata": {
            "tags": []
          },
          "execution_count": 77
        }
      ]
    },
    {
      "cell_type": "code",
      "metadata": {
        "id": "-o75BkPrKfX7",
        "outputId": "85747c1b-49aa-40c9-ba56-7e030ba5e2b4",
        "colab": {
          "base_uri": "https://localhost:8080/"
        }
      },
      "source": [
        "multiplos_5(26)"
      ],
      "execution_count": 78,
      "outputs": [
        {
          "output_type": "execute_result",
          "data": {
            "text/plain": [
              "[5, 10, 15, 20, 25]"
            ]
          },
          "metadata": {
            "tags": []
          },
          "execution_count": 78
        }
      ]
    }
  ]
}