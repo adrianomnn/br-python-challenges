{
  "nbformat": 4,
  "nbformat_minor": 0,
  "metadata": {
    "anaconda-cloud": {},
    "kernelspec": {
      "display_name": "Python 3",
      "language": "python",
      "name": "python3"
    },
    "language_info": {
      "codemirror_mode": {
        "name": "ipython",
        "version": 3
      },
      "file_extension": ".py",
      "mimetype": "text/x-python",
      "name": "python",
      "nbconvert_exporter": "python",
      "pygments_lexer": "ipython3",
      "version": "3.6.5"
    },
    "colab": {
      "name": "Desafio 12.ipynb",
      "provenance": []
    }
  },
  "cells": [
    {
      "cell_type": "markdown",
      "metadata": {
        "id": "AYHY2YXQf6J2"
      },
      "source": [
        "### Desafio 12\n",
        "\n",
        "Escreva uma função em Python para verificar a validade de uma senha.\n",
        "\n",
        "Validação:\n",
        "\n",
        "* Pelo menos 1 letra entre [a-z] e 1 letra entre [A-Z].\n",
        "* Pelo menos 1 número entre [0-9].\n",
        "* Pelo menos 1 caractere de [$ # @].\n",
        "* Comprimento mínimo de 6 caracteres.\n",
        "* Comprimento máximo de 16 caracteres.\n",
        "\n",
        "Entradas: \"12345678\", \"J3sus0\", \"#Te5t300\", \"J*90j12374\", \"Michheeul\", \"Monk3y6\"\n",
        "\n",
        "A saída deve ser a senha e um texto indicando se a senha é válida ou inválida:\n",
        "\n",
        "```\n",
        "\"1234\" - Senha inválida\n",
        "\"Qw#1234\" - Senha válida\n",
        "```"
      ]
    },
    {
      "cell_type": "code",
      "metadata": {
        "id": "UGgtGYGGf6J3"
      },
      "source": [
        "def validacao_senha(senha):\r\n",
        "  while True:\r\n",
        "    if len(senha) <6 or len(senha)>16:\r\n",
        "      print('Senha inválida')\r\n",
        "      break\r\n",
        "    elif not re.search(\"[a-z]\", senha): \r\n",
        "      print('Senha inválida')\r\n",
        "      break                                                \r\n",
        "    elif not re.search(\"[A-Z]\", senha):\r\n",
        "      print('Senha inválida')\r\n",
        "      break\r\n",
        "    elif not re.search(\"[0-9]\", senha):\r\n",
        "      print('Senha inválida')  \r\n",
        "      break  \r\n",
        "    elif not re.search(\"[$#@]\", senha):\r\n",
        "      print('Senha inválida') \r\n",
        "      break\r\n",
        "    else:\r\n",
        "      print('Senha válida')\r\n",
        "      break"
      ],
      "execution_count": 134,
      "outputs": []
    },
    {
      "cell_type": "code",
      "metadata": {
        "id": "n8F01NzD9uHm"
      },
      "source": [
        "entradas= [\"123456\", \"J3sus0\", \"#Te5t300\", \"J*90j12374\", \"Michheeul\", \"Monk3y6\"]\r\n"
      ],
      "execution_count": 148,
      "outputs": []
    },
    {
      "cell_type": "code",
      "metadata": {
        "id": "2Wm_0pOAgKC9",
        "outputId": "bf49b35f-da93-42ff-9c01-5d1cfa300977",
        "colab": {
          "base_uri": "https://localhost:8080/"
        }
      },
      "source": [
        "validacao_senha(\"Qw#1234\")"
      ],
      "execution_count": 151,
      "outputs": [
        {
          "output_type": "stream",
          "text": [
            "Senha válida\n"
          ],
          "name": "stdout"
        }
      ]
    }
  ]
}